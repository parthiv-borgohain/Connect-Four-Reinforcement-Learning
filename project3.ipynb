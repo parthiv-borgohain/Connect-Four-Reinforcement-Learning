{
 "cells": [
  {
   "cell_type": "code",
   "execution_count": 87,
   "metadata": {},
   "outputs": [],
   "source": [
    "import numpy as np\n",
    "import tensorflow as tf\n",
    "import pandas as pd\n",
    "import seaborn as sns\n",
    "import random\n",
    "from tensorflow.keras.models import Model\n",
    "from tensorflow.keras.layers import Dense, Flatten, Conv1D, Conv2D, Dropout, Input\n",
    "from IPython.display import clear_output"
   ]
  },
  {
   "cell_type": "markdown",
   "metadata": {},
   "source": [
    "Team Members: Andrew Gillock (apg2255), April Kim (hk22849), Olivia Lee (rl29986), Parthiv Borgohain (pb25347)"
   ]
  },
  {
   "cell_type": "markdown",
   "metadata": {},
   "source": [
    "## Problem Overview\n",
    "\n",
    "You work for a board game company. Your company is considering using RL to find good playing strategies actions when playing the game. Your company is very new to RL, so your boss wants you to explore RL on a simple game first. You will do this for a variation of Connect-4, called PopOut. Rules for the basic version of Connect-4 and PopOut can be found at: https://en.wikipedia.org/wiki/Connect_Four. The basic idea of PopOut is that on your turn you can drop a checker into a column that has open spaces (like in standard connect4) OR you can choose to remove one of your checkers from the bottom row, if one of your checkers is on the bottom row. If you remove a checker from the bottom row then the checkers above the one you remove will then drop down one row. You cannot remove one of your opponent’s checkers on the bottom row. You will solve this problem using a self-play reinforcement learning agent.\n",
    "\n",
    "## Specifics\n",
    "\n",
    "\n",
    "1. Build a reinforcement learning agent that plays PopOut. We have built 2 simple engines in class that did not perform very well on Pong. Your job is to write one that does perform well on PopOut! You may use any of the strategies we talked about in class to improve the performance. You can try actor/critic, you can try a double DQN network, you can use a memory buffer, or you can use a linear annealed strategy. The key difference between the game we played in class and this problem is that the opponent is also controlled by you. You should train one neural network to play the black checkers, and one neural network to play the red checkers. You should simultaneously train both neural networks. You can train these for as long as you like, but each one should be able to easily beat (at least 99 out of 100 games) an opponent that plays completely at random.\n",
    "2. You will not use gym for this assignment. Code that determines how the board changes upon each play will be provided, but it will be your responsibility to determine if a move is legal or not: you cannot put a checker in a full column and you cannot remove a checker from the bottom row if it isn’t your color. Code that checks the board to see if someone has won the game will also be provided.\n",
    "3. Now comes the fun part. We will have a class tournament to see who trains the best reinforcement learning engine for PopOut. Each member of the winning team will receive 5% extra credit points on the final exam, but not to exceed 100%. The tournament will be structured as follows:\n",
    "    - a. There are 24 groups. You will be split into 8 pools of 3 groups each. In each pool you will play the 2 other teams in your pool. Each time you play an opponent you will play 5 games. Before you play any games, you will randomly decide who goes first on the first game, and then you will take turns going first on each subsequent game. That means every team will play 10 games against opponents. The team with the most wins out of those 10 in your pool will advance to bracket A. Ties will be broken by the number of moves required to win, fewer moves played in those 10 games is better. If you’re still tied, flip a coin. Eight teams will advance to bracket A. The remaining teams will move to bracket B.\n",
    "    - b. Once you are in bracket A or B, you will again play 5 games against your opponent, randomly deciding who goes first on the first game and then taking turns going first after that. As in a standard bracket, the winner moves on and the loser is done. Each bracket will have a winner. The winner of bracket A will play the winner of bracket B in class on April 18. The winner of this game will get the 5% extra credit.\n",
    "    - c. This tournament will be played over several days. You can keep training your engine as the tournament progresses if you want to. The schedule for the tournament will be published soon.\n",
    "4. Pretend you are a developer at the gaming company. Your boss is interested in potentially using RL to create opponents so single players can play your games. Your team has been asked to write a report about the effectiveness of RL. Write this project as if this is what you’re going to deliver to your boss. Your boss is pretty technical and understands RL, so don’t be afraid to include quantitative material. Your boss is also busy, so be sure to include some visualizations to get the important points across. Would it be beneficial to hire an RL expert to work at your company? Include a summary of your performance in the tournament in your report."
   ]
  },
  {
   "cell_type": "code",
   "execution_count": 2,
   "metadata": {},
   "outputs": [],
   "source": [
    "def update_board(board_temp,color,column):\n",
    "    # this is a function that takes the current board status, a color, and a column and outputs the new board status\n",
    "    # columns 0 - 6 are for putting a checker on the board: if column is full just return the current board...this should be forbidden by the player\n",
    "    # columns 7 - 13 are for pulling a checker off the board: this does not check if removing the checker is allowed...\n",
    "    # \n",
    "    # the color input should be either 'plus' or 'minus'\n",
    "    \n",
    "    board = board_temp.copy()\n",
    "    ncol = board.shape[1]\n",
    "    nrow = board.shape[0]\n",
    "    \n",
    "    if column < ncol: # if we are dropping a checker on the board (0-6)\n",
    "        \n",
    "        # start by assuming you can't add to the column\n",
    "        row = -1        \n",
    "        \n",
    "        # loop through the rows checking if you can go to each row or not\n",
    "        # start at top of board\n",
    "        for check in range(nrow):\n",
    "            \n",
    "            # if slot is filled at row and desired column, we cannot place here, this should be forbidden by the player\n",
    "            if (board[check,column]!=0):\n",
    "                break # if this row is occupied, you're done\n",
    "            \n",
    "            else: # otherwise, you can go on this row! (it is empty)\n",
    "                row += 1\n",
    "\n",
    "        if row >= 0: # if you can add to the column\n",
    "            if color == 'plus': # check the color\n",
    "                board[row,column] = 1\n",
    "            else:\n",
    "                board[row,column] = -1\n",
    "        return board\n",
    "    \n",
    "    \n",
    "    else:\n",
    "        column -= ncol\n",
    "        \n",
    "        if column >= ncol:\n",
    "            return board # can't play anything bigger than 13...\n",
    "        \n",
    "        board[1:,column] = board[:-1,column].copy()\n",
    "        board[0, column] = 0\n",
    "        \n",
    "        return board"
   ]
  },
  {
   "cell_type": "code",
   "execution_count": 3,
   "metadata": {},
   "outputs": [],
   "source": [
    "def check_for_win(board):\n",
    "    # this function checks to see if anyone has won on the given board\n",
    "    nrow = board.shape[0]\n",
    "    ncol = board.shape[1]\n",
    "    winner = 'nobody'\n",
    "    for row in range(nrow):\n",
    "        for col in range(ncol):\n",
    "            # check for vertical winners\n",
    "            if row <= (nrow-4): # can't have a column go from rows 4-7...\n",
    "                if np.sum(board[row:(row+4),col])==4:\n",
    "                    winner = 'v-plus'\n",
    "                    return winner\n",
    "                elif np.sum(board[row:(row+4),col])==-4:\n",
    "                    winner = 'v-minus'\n",
    "                    return winner\n",
    "            # check for horizontal winners\n",
    "            if col <= (ncol-4):\n",
    "                if np.sum(board[row,col:(col+4)])==4:\n",
    "                    winner = 'h-plus'\n",
    "                    return winner\n",
    "                elif np.sum(board[row,col:(col+4)])==-4:\n",
    "                    winner = 'h-minus'\n",
    "                    return winner\n",
    "            # check for top left to bottom right diagonal winners\n",
    "            if (row <= (nrow-4)) and (col <= (ncol-4)):\n",
    "                if np.sum(board[range(row,row+4),range(col,col+4)])==4:\n",
    "                    winner = 'd-plus'\n",
    "                    return winner\n",
    "                elif np.sum(board[range(row,row+4),range(col,col+4)])==-4:\n",
    "                    winner = 'd-minus'\n",
    "                    return winner\n",
    "            # check for top right to bottom left diagonal winners\n",
    "            if (row <= (nrow-4)) and (col >= 3):\n",
    "                if np.sum(board[range(row,row+4),range(col,col-4,-1)])==4:\n",
    "                    winner = 'd-plus'\n",
    "                    return winner\n",
    "                elif np.sum(board[range(row,row+4),range(col,col-4,-1)])==-4:\n",
    "                    winner = 'd-minus'\n",
    "                    return winner\n",
    "    return winner"
   ]
  },
  {
   "cell_type": "code",
   "execution_count": 4,
   "metadata": {},
   "outputs": [],
   "source": [
    "def display_board(board):\n",
    "    # this function displays the board as ascii using X for +1 and O for -1\n",
    "    clear_output()\n",
    "    horizontal_line = '-'*(7*5+8)\n",
    "    blank_line = '|'+' '*5\n",
    "    blank_line *= 7\n",
    "    blank_line += '|'\n",
    "    print(horizontal_line)\n",
    "    for row in range(6):\n",
    "        print(blank_line)\n",
    "        this_line = '|'\n",
    "        for col in range(7):\n",
    "            if board[row,col] == 0:\n",
    "                this_line += ' '*5 + '|'\n",
    "            elif board[row,col] == 1:\n",
    "                this_line += '  X  |'\n",
    "            else:\n",
    "                this_line += '  O  |'\n",
    "        print(this_line)\n",
    "        print(blank_line)\n",
    "        print(horizontal_line)"
   ]
  },
  {
   "cell_type": "code",
   "execution_count": 5,
   "metadata": {},
   "outputs": [],
   "source": [
    "def get_legal_move(board_temp, player):\n",
    "    # this function takes the current board and player as input and returns a list of t/f legal moves\n",
    "    board = board_temp.copy()\n",
    "    legal = np.array([True]*14)\n",
    "    \n",
    "    # check if columns are full\n",
    "    legal[:7] = (board[0, :] == 0)\n",
    "    \n",
    "    # check if piece can be popped out\n",
    "    if player == 'plus':\n",
    "        legal[7:] = (board[5, :] == 1)\n",
    "    else:\n",
    "        legal[7:] = (board[5, :] == -1)\n",
    "    \n",
    "    return legal"
   ]
  },
  {
   "cell_type": "code",
   "execution_count": 6,
   "metadata": {},
   "outputs": [],
   "source": [
    "def play1random(model):\n",
    "    # this function takes one model as input and plays a game of popout, returns winner and arrays of boards, rewards, actions, and turns\n",
    "    winner = 'nobody'\n",
    "    board = np.zeros((6, 7))\n",
    "    eps = 0.05\n",
    "\n",
    "    nrow = board.shape[0]\n",
    "    ncol = board.shape[1]\n",
    "    \n",
    "    board_array = []\n",
    "    action_array = []\n",
    "    reward_array = []\n",
    "    player_array = []\n",
    "    \n",
    "    player = 'plus'\n",
    "    \n",
    "    while winner == 'nobody':  \n",
    "        if player == 'plus':\n",
    "            \n",
    "            # define legal moves\n",
    "            legal_list = get_legal_move(board, 'plus')\n",
    "            legal = np.where(legal_list == 1)[0]\n",
    "            illegal = np.where(legal_list != 1)[0]\n",
    "            \n",
    "            input = board.reshape(1, nrow, ncol)\n",
    "            probs = model(input, training = False).numpy()[0] # obtain probabilities\n",
    "\n",
    "            probs[illegal] = -1 # prevent illegal moves from being played\n",
    "\n",
    "            ran = random.random()\n",
    "            \n",
    "            if ran < eps:\n",
    "                move = np.random.choice(legal) # act randomly if < eps\n",
    "            else:\n",
    "                move = np.argmax(probs) # choose largest prob otherwise\n",
    "            \n",
    "        else:\n",
    "            legal_list = get_legal_move(board, 'minus')\n",
    "            move = np.random.choice(np.where(legal_list == 1)[0]) # make random move\n",
    "        \n",
    "           \n",
    "        board = update_board(board, player, move)\n",
    "        \n",
    "        winner = check_for_win(board)\n",
    "        \n",
    "        # set rewards after each move\n",
    "        if 'plus' in winner:\n",
    "            reward = 1\n",
    "        elif 'minus' in winner:\n",
    "            reward = -1\n",
    "        else:\n",
    "            reward = 0     \n",
    "        \n",
    "        board_array.append(board)\n",
    "        action_array.append(move)\n",
    "        reward_array.append(reward)\n",
    "        player_array.append(player)\n",
    "        \n",
    "        # alternate moves\n",
    "        if player == 'plus':\n",
    "            player = 'minus'    \n",
    "        else:\n",
    "            player = 'plus'\n",
    "        \n",
    "    return winner, board_array, action_array, reward_array, player_array"
   ]
  },
  {
   "cell_type": "code",
   "execution_count": 7,
   "metadata": {},
   "outputs": [],
   "source": [
    "def play1opp(model1, model2):\n",
    "    winner = 'nobody'\n",
    "    board = np.zeros((6, 7))\n",
    "    eps = 0.05\n",
    "\n",
    "    nrow = board.shape[0]\n",
    "    ncol = board.shape[1]\n",
    "    \n",
    "    board_array = []\n",
    "    action_array = []\n",
    "    reward_array = []\n",
    "    player_array = []\n",
    "    \n",
    "    player = 'plus'\n",
    "    \n",
    "    while winner == 'nobody':  \n",
    "        if player == 'plus':\n",
    "            \n",
    "            # define legal moves\n",
    "            legal_list = get_legal_move(board, 'plus')\n",
    "            legal = np.where(legal_list == 1)[0]\n",
    "            illegal = np.where(legal_list != 1)[0]\n",
    "            \n",
    "            input = board.reshape(1, nrow, ncol)\n",
    "            probs = model1(input, training = False).numpy()[0] # obtain probabilities from model 1\n",
    "\n",
    "            probs[illegal] = -1 # prevent illegal moves from being played\n",
    "\n",
    "            ran = random.random()\n",
    "            \n",
    "            if ran < eps:\n",
    "                move = np.random.choice(legal) # act randomly if < eps\n",
    "            else:\n",
    "                move = np.argmax(probs) # choose largest prob otherwise\n",
    "            \n",
    "        else:\n",
    "            \n",
    "            # define legal moves\n",
    "            legal_list = get_legal_move(board, 'minus')\n",
    "            legal = np.where(legal_list == 1)[0]\n",
    "            illegal = np.where(legal_list != 1)[0]\n",
    "            \n",
    "            input = board.reshape(1, nrow, ncol)\n",
    "            probs = model2(input, training = False).numpy()[0] # obtain probabilities from model 2\n",
    "            \n",
    "            probs[illegal] = -1 # prevent illegal moves from being played\n",
    "            \n",
    "            move = np.argmax(probs) # assume opponent behaves optimally \n",
    "        \n",
    "           \n",
    "        board = update_board(board, player, move)\n",
    "        \n",
    "        winner = check_for_win(board)\n",
    "        \n",
    "        # set rewards after each move\n",
    "        if 'plus' in winner:\n",
    "            reward = 1\n",
    "        elif 'minus' in winner:\n",
    "            reward = -1\n",
    "        else:\n",
    "            reward = 0     \n",
    "        \n",
    "        board_array.append(board)\n",
    "        action_array.append(move)\n",
    "        reward_array.append(reward)\n",
    "        player_array.append(player)\n",
    "        \n",
    "        # alternate moves\n",
    "        if player == 'plus':\n",
    "            player = 'minus'\n",
    "        else:\n",
    "            player = 'plus'\n",
    "        \n",
    "    return winner, board_array, action_array, reward_array, player_array"
   ]
  },
  {
   "cell_type": "code",
   "execution_count": 8,
   "metadata": {},
   "outputs": [],
   "source": [
    "def create_model(height, width):\n",
    "    # this method takes the board dimensions as input and returns nn\n",
    "    imp = Input(shape = (height, width))\n",
    "    mid = Conv1D(16, 2, activation = 'relu')(imp)\n",
    "    mid = Conv1D(8, 2, activation = 'relu')(mid)\n",
    "    mid = Conv1D(32, 4, activation = 'relu')(mid)\n",
    "    mid = Flatten()(mid)\n",
    "    mid = Dense(32, activation = 'relu')(mid)\n",
    "    mid = Dropout(rate = 0.1)(mid)\n",
    "    mid = Dense(32, activation = 'relu')(mid)\n",
    "    mid = Dropout(rate = 0.4)(mid)\n",
    "    mid = Dense(64, activation = 'relu')(mid)\n",
    "    mid = Dense(256, activation = 'relu')(mid)\n",
    "    out0 = Dense(14, activation = 'softmax')(mid)\n",
    "    \n",
    "    model = Model(imp, out0)\n",
    "    \n",
    "    model.compile(optimizer = tf.keras.optimizers.Adam(learning_rate = 1e-4), loss = 'sparse_categorical_crossentropy')\n",
    "    \n",
    "    return model"
   ]
  },
  {
   "cell_type": "code",
   "execution_count": 10,
   "metadata": {},
   "outputs": [],
   "source": [
    "def discount_rewards(r):\n",
    "    # this function takes an array of rewards as input and returns array of discounted returns\n",
    "    delt = 0.99\n",
    "    nr = r.shape[0]\n",
    "    discounted_r = np.zeros(nr)\n",
    "    \n",
    "    for t in range(nr):\n",
    "        # start at end\n",
    "        if r[nr-t-1] > 0:\n",
    "            discounted_r[nr-t-1] = 1\n",
    "        \n",
    "        elif r[nr-t-1] < 0:\n",
    "            discounted_r[nr-t-1] = -1\n",
    "        \n",
    "        elif t == 0:\n",
    "            discounted_r[nr-t-1] = 0\n",
    "        \n",
    "        elif discounted_r[nr-t-1] == 0:\n",
    "            discounted_r[nr-t-1] = delt*discounted_r[nr-t]\n",
    "    \n",
    "    return discounted_r"
   ]
  },
  {
   "cell_type": "markdown",
   "metadata": {},
   "source": [
    "## Train initial model against opponent playing randomly"
   ]
  },
  {
   "cell_type": "code",
   "execution_count": 11,
   "metadata": {},
   "outputs": [
    {
     "name": "stdout",
     "output_type": "stream",
     "text": [
      "Model: \"model\"\n",
      "_________________________________________________________________\n",
      " Layer (type)                Output Shape              Param #   \n",
      "=================================================================\n",
      " input_1 (InputLayer)        [(None, 6, 7)]            0         \n",
      "                                                                 \n",
      " conv1d (Conv1D)             (None, 5, 16)             240       \n",
      "                                                                 \n",
      " conv1d_1 (Conv1D)           (None, 4, 8)              264       \n",
      "                                                                 \n",
      " conv1d_2 (Conv1D)           (None, 1, 32)             1056      \n",
      "                                                                 \n",
      " flatten (Flatten)           (None, 32)                0         \n",
      "                                                                 \n",
      " dense (Dense)               (None, 32)                1056      \n",
      "                                                                 \n"
     ]
    },
    {
     "name": "stderr",
     "output_type": "stream",
     "text": [
      "2023-04-24 18:37:28.378610: I tensorflow/core/platform/cpu_feature_guard.cc:193] This TensorFlow binary is optimized with oneAPI Deep Neural Network Library (oneDNN) to use the following CPU instructions in performance-critical operations:  AVX2 FMA\n",
      "To enable them in other operations, rebuild TensorFlow with the appropriate compiler flags.\n"
     ]
    },
    {
     "name": "stdout",
     "output_type": "stream",
     "text": [
      " dropout (Dropout)           (None, 32)                0         \n",
      "                                                                 \n",
      " dense_1 (Dense)             (None, 32)                1056      \n",
      "                                                                 \n",
      " dropout_1 (Dropout)         (None, 32)                0         \n",
      "                                                                 \n",
      " dense_2 (Dense)             (None, 64)                2112      \n",
      "                                                                 \n",
      " dense_3 (Dense)             (None, 256)               16640     \n",
      "                                                                 \n",
      " dense_4 (Dense)             (None, 14)                3598      \n",
      "                                                                 \n",
      "=================================================================\n",
      "Total params: 26,022\n",
      "Trainable params: 26,022\n",
      "Non-trainable params: 0\n",
      "_________________________________________________________________\n"
     ]
    }
   ],
   "source": [
    "# # create baseline model for testing against random opponent\n",
    "# mod = create_model(6, 7)\n",
    "# mod.call = tf.function(mod.call, experimental_relax_shapes= True)\n",
    "mod = tf.keras.models.load_model('models/first_opponent')\n",
    "# mod.summary()"
   ]
  },
  {
   "cell_type": "code",
   "execution_count": 97,
   "metadata": {},
   "outputs": [
    {
     "name": "stdout",
     "output_type": "stream",
     "text": [
      "For 500 games played, our model wins 95.6% of the time against an opponent picking randomly.\n"
     ]
    }
   ],
   "source": [
    "# fit original model against opponent playing at random\n",
    "ngames = 500\n",
    "batch_size = 25\n",
    "winners = []\n",
    "\n",
    "for game in range(ngames):\n",
    "    winner, b_array, a_array, r_array, p_array = play1random(mod) # play game\n",
    "    \n",
    "    # record outcomes\n",
    "    rewards = np.array(r_array)\n",
    "    actions = np.array(a_array)\n",
    "    boards = np.array(b_array)\n",
    "    winners.append(winner)\n",
    "    \n",
    "    nboards = len(boards) # get num of turns\n",
    "    \n",
    "    disc_rewards = discount_rewards(rewards) # discount rewards from game\n",
    "\n",
    "    actions = actions.reshape(nboards, 1, 1) # reshape actions for tf model\n",
    "    \n",
    "    \n",
    "    # ### COMMENT THIS IF RERUNNING\n",
    "    # mod.fit(boards, actions, epochs = 5, batch_size = batch_size, verbose = 0, sample_weight = disc_rewards, use_multiprocessing = True)\n",
    "    \n",
    "# get win %\n",
    "count = 0\n",
    "for winner in winners:\n",
    "    if 'plus' in winner:\n",
    "        count +=1\n",
    "\n",
    "win_per = count/len(winners) * 100\n",
    "\n",
    "print(f'For {ngames} games played, our model wins {win_per}% of the time against an opponent picking randomly.')"
   ]
  },
  {
   "cell_type": "code",
   "execution_count": 98,
   "metadata": {},
   "outputs": [
    {
     "data": {
      "text/plain": [
       "Text(0.5, 1.0, 'Types of Victories recorded by Plus Player')"
      ]
     },
     "execution_count": 98,
     "metadata": {},
     "output_type": "execute_result"
    },
    {
     "data": {
      "image/png": "[encoded data removed]",
      "text/plain": [
       "<Figure size 640x480 with 1 Axes>"
      ]
     },
     "metadata": {},
     "output_type": "display_data"
    }
   ],
   "source": [
    "winners_series = pd.Series(winners)\n",
    "winners_sums = winners_series.value_counts()\n",
    "ax = winners_sums.filter(like='plus').plot(kind='bar')\n",
    "ax.set_title(\"Types of Victories recorded by Plus Player\")"
   ]
  },
  {
   "cell_type": "code",
   "execution_count": 99,
   "metadata": {},
   "outputs": [
    {
     "data": {
      "text/plain": [
       "Text(0.5, 1.0, 'Types of Victories recorded by Minus Player')"
      ]
     },
     "execution_count": 99,
     "metadata": {},
     "output_type": "execute_result"
    },
    {
     "data": {
      "image/png": "[encoded data removed]",
      "text/plain": [
       "<Figure size 640x480 with 1 Axes>"
      ]
     },
     "metadata": {},
     "output_type": "display_data"
    }
   ],
   "source": [
    "ax1 = winners_sums.filter(like='minus').plot(kind='bar')\n",
    "ax1.set_title(\"Types of Victories recorded by Minus Player\")"
   ]
  },
  {
   "cell_type": "code",
   "execution_count": 19,
   "metadata": {},
   "outputs": [],
   "source": [
    "# mod.save('models/first_opponent')"
   ]
  },
  {
   "cell_type": "markdown",
   "metadata": {},
   "source": [
    "## Train new network against new opponent"
   ]
  },
  {
   "cell_type": "code",
   "execution_count": 91,
   "metadata": {},
   "outputs": [],
   "source": [
    "# mod2 = create_model(6, 7)\n",
    "# mod2.summary()\n",
    "mod2 = tf.keras.models.load_model('models/second_opp')"
   ]
  },
  {
   "cell_type": "code",
   "execution_count": 111,
   "metadata": {},
   "outputs": [
    {
     "name": "stdout",
     "output_type": "stream",
     "text": [
      "For 500 games played, our new model wins 75.0% of games against the initial model.\n"
     ]
    }
   ],
   "source": [
    "# fit new model against first model\n",
    "ngames = 500\n",
    "batch_size = 25\n",
    "winners = []\n",
    "\n",
    "for game in range(ngames):\n",
    "    winner, b_array, a_array, r_array, p_array = play1opp(mod2, mod) # play game\n",
    "    \n",
    "    # record outcomes\n",
    "    rewards = np.array(r_array)\n",
    "    actions = np.array(a_array)\n",
    "    boards = np.array(b_array)\n",
    "    winners.append(winner)\n",
    "    \n",
    "    nboards = len(boards) # get num of turns\n",
    "    \n",
    "    disc_rewards = discount_rewards(rewards) # discount rewards from game\n",
    "\n",
    "    actions = actions.reshape(nboards, 1, 1) # reshape actions for tf model\n",
    "    \n",
    "    \n",
    "    #### COMMENT THIS IF RERUNNING\n",
    "    # mod2.fit(boards, actions, epochs = 5, batch_size = batch_size, verbose = 0, sample_weight = disc_rewards, use_multiprocessing = True)\n",
    "\n",
    "# get win %\n",
    "count = 0\n",
    "for winner in winners:\n",
    "    if 'plus' in winner:\n",
    "        count +=1\n",
    "\n",
    "win_per = count/len(winners) * 100\n",
    "\n",
    "print(f'For {ngames} games played, our new model wins {win_per}% of games against the initial model.')"
   ]
  },
  {
   "cell_type": "code",
   "execution_count": 112,
   "metadata": {},
   "outputs": [
    {
     "data": {
      "text/plain": [
       "Text(0.5, 1.0, 'Types of Victories recorded by Plus Player')"
      ]
     },
     "execution_count": 112,
     "metadata": {},
     "output_type": "execute_result"
    },
    {
     "data": {
      "image/png": "[encoded data removed]",
      "text/plain": [
       "<Figure size 640x480 with 1 Axes>"
      ]
     },
     "metadata": {},
     "output_type": "display_data"
    }
   ],
   "source": [
    "winners_series = pd.Series(winners)\n",
    "winners_sums = winners_series.value_counts()\n",
    "winners_sums = winners_series.value_counts()\n",
    "ax = winners_sums.filter(like='plus').plot(kind='bar')\n",
    "ax.set_title(\"Types of Victories recorded by Plus Player\")"
   ]
  },
  {
   "cell_type": "code",
   "execution_count": 113,
   "metadata": {},
   "outputs": [
    {
     "data": {
      "text/plain": [
       "Text(0.5, 1.0, 'Types of Victories recorded by Minus Player')"
      ]
     },
     "execution_count": 113,
     "metadata": {},
     "output_type": "execute_result"
    },
    {
     "data": {
      "image/png": "[encoded data removed]",
      "text/plain": [
       "<Figure size 640x480 with 1 Axes>"
      ]
     },
     "metadata": {},
     "output_type": "display_data"
    }
   ],
   "source": [
    "ax1 = winners_sums.filter(like='minus').plot(kind='bar')\n",
    "ax1.set_title(\"Types of Victories recorded by Minus Player\")"
   ]
  },
  {
   "cell_type": "code",
   "execution_count": 22,
   "metadata": {},
   "outputs": [
    {
     "name": "stderr",
     "output_type": "stream",
     "text": [
      "WARNING:absl:Found untraced functions such as _jit_compiled_convolution_op, _jit_compiled_convolution_op, _jit_compiled_convolution_op, _update_step_xla while saving (showing 4 of 4). These functions will not be directly callable after loading.\n"
     ]
    },
    {
     "name": "stdout",
     "output_type": "stream",
     "text": [
      "INFO:tensorflow:Assets written to: models/second_opp/assets\n"
     ]
    },
    {
     "name": "stderr",
     "output_type": "stream",
     "text": [
      "INFO:tensorflow:Assets written to: models/second_opp/assets\n"
     ]
    }
   ],
   "source": [
    "#mod2.save('models/second_opp')"
   ]
  },
  {
   "cell_type": "markdown",
   "metadata": {},
   "source": [
    "# Check performance of Model 2 against opponent playing at random"
   ]
  },
  {
   "cell_type": "code",
   "execution_count": 118,
   "metadata": {},
   "outputs": [
    {
     "name": "stdout",
     "output_type": "stream",
     "text": [
      "For 500 games played, our new model wins 96.39999999999999% of the time against an opponent playing at random.\n"
     ]
    }
   ],
   "source": [
    "# check performance against random oppon\n",
    "ngames = 500\n",
    "batch_size = 25\n",
    "winners = []\n",
    "for game in range(ngames):\n",
    "    winner, b_array, a_array, r_array, p_array = play1random(mod2)\n",
    "    winners.append(winner)\n",
    "    \n",
    "count = 0\n",
    "for winner in winners:\n",
    "    if 'plus' in winner:\n",
    "        count +=1\n",
    "\n",
    "win_per = count/len(winners) * 100\n",
    "\n",
    "print(f'For {ngames} games played, our new model wins {win_per}% of the time against an opponent playing at random.')"
   ]
  },
  {
   "cell_type": "code",
   "execution_count": 116,
   "metadata": {},
   "outputs": [
    {
     "data": {
      "text/plain": [
       "Text(0.5, 1.0, 'Types of Victories recorded by Plus Player')"
      ]
     },
     "execution_count": 116,
     "metadata": {},
     "output_type": "execute_result"
    },
    {
     "data": {
      "image/png": "[encoded data removed]",
      "text/plain": [
       "<Figure size 640x480 with 1 Axes>"
      ]
     },
     "metadata": {},
     "output_type": "display_data"
    }
   ],
   "source": [
    "winners_series = pd.Series(winners)\n",
    "winners_sums = winners_series.value_counts()\n",
    "ax = winners_sums.filter(like='plus').plot(kind='bar')\n",
    "ax.set_title(\"Types of Victories recorded by Plus Player\")"
   ]
  },
  {
   "cell_type": "code",
   "execution_count": 117,
   "metadata": {},
   "outputs": [
    {
     "data": {
      "text/plain": [
       "Text(0.5, 1.0, 'Types of Victories recorded by Minus Player')"
      ]
     },
     "execution_count": 117,
     "metadata": {},
     "output_type": "execute_result"
    },
    {
     "data": {
      "image/png": "[encoded data removed]",
      "text/plain": [
       "<Figure size 640x480 with 1 Axes>"
      ]
     },
     "metadata": {},
     "output_type": "display_data"
    }
   ],
   "source": [
    "ax1 = winners_sums.filter(like='minus').plot(kind='bar')\n",
    "ax1.set_title(\"Types of Victories recorded by Minus Player\")"
   ]
  },
  {
   "cell_type": "markdown",
   "metadata": {},
   "source": [
    "## Now we train these models against one another\n",
    "design function to check for capping opponents"
   ]
  },
  {
   "cell_type": "code",
   "execution_count": 53,
   "metadata": {},
   "outputs": [],
   "source": [
    "board = np.zeros((6, 7))\n",
    "board[5, 2:4] = 1"
   ]
  },
  {
   "cell_type": "code",
   "execution_count": 55,
   "metadata": {},
   "outputs": [
    {
     "data": {
      "text/plain": [
       "array([[0., 0., 0., 0., 0., 0., 0.],\n",
       "       [0., 0., 0., 0., 0., 0., 0.],\n",
       "       [0., 0., 0., 0., 0., 0., 0.],\n",
       "       [1., 0., 0., 0., 0., 0., 0.],\n",
       "       [1., 0., 0., 0., 0., 0., 0.],\n",
       "       [1., 0., 1., 1., 0., 0., 0.]])"
      ]
     },
     "execution_count": 55,
     "metadata": {},
     "output_type": "execute_result"
    }
   ],
   "source": [
    "board"
   ]
  },
  {
   "cell_type": "code",
   "execution_count": 54,
   "metadata": {},
   "outputs": [],
   "source": [
    "board[3:, 0] = 1"
   ]
  },
  {
   "cell_type": "code",
   "execution_count": 56,
   "metadata": {},
   "outputs": [],
   "source": [
    "i = 0\n",
    "col = board[:, i]"
   ]
  },
  {
   "cell_type": "code",
   "execution_count": 58,
   "metadata": {},
   "outputs": [],
   "source": [
    "list = np.array([1, 1, 1])"
   ]
  },
  {
   "cell_type": "code",
   "execution_count": 63,
   "metadata": {},
   "outputs": [],
   "source": [
    "def find_subarray(first_arr, second_arr):\n",
    "    # this function is for checking if stacks of 3 checkers are present, https://www.codevscolor.com/python-check-subarray-in-array\n",
    "    first_ptr = 0\n",
    "    second_ptr = 0\n",
    "\n",
    "    first_arr_len = len(first_arr)\n",
    "    second_arr_len = len(second_arr)\n",
    "\n",
    "    while first_ptr < first_arr_len and second_ptr < second_arr_len:\n",
    "        if first_arr[first_ptr] == second_arr[second_ptr]:\n",
    "            first_ptr += 1\n",
    "            second_ptr += 1\n",
    "\n",
    "            if second_ptr == second_arr_len:\n",
    "                return True\n",
    "\n",
    "        else:\n",
    "            first_ptr = first_ptr - second_ptr + 1\n",
    "            second_ptr = 0\n",
    "\n",
    "    return False"
   ]
  },
  {
   "cell_type": "code",
   "execution_count": 66,
   "metadata": {},
   "outputs": [
    {
     "data": {
      "text/plain": [
       "True"
      ]
     },
     "execution_count": 66,
     "metadata": {},
     "output_type": "execute_result"
    }
   ],
   "source": [
    "find_subarray(col, list)"
   ]
  },
  {
   "cell_type": "code",
   "execution_count": 72,
   "metadata": {},
   "outputs": [],
   "source": [
    "moves = np.arange(14)"
   ]
  },
  {
   "cell_type": "code",
   "execution_count": 79,
   "metadata": {},
   "outputs": [],
   "source": [
    "columns = np.arange(board.shape[1])"
   ]
  },
  {
   "cell_type": "code",
   "execution_count": 80,
   "metadata": {},
   "outputs": [
    {
     "data": {
      "text/plain": [
       "array([0, 1, 2, 3, 4, 5, 6])"
      ]
     },
     "execution_count": 80,
     "metadata": {},
     "output_type": "execute_result"
    }
   ],
   "source": [
    "columns"
   ]
  },
  {
   "cell_type": "code",
   "execution_count": 84,
   "metadata": {},
   "outputs": [
    {
     "name": "stdout",
     "output_type": "stream",
     "text": [
      "CAP\n"
     ]
    }
   ],
   "source": [
    "cap = np.array([0, 1, 1, 1])\n",
    "cap_opp = np.array([0, -1, -1, -1])\n",
    "for col in range(board.shape[1]):\n",
    "    # return best move\n",
    "    column = board[:, col] # get current column\n",
    "    if find_subarray(column, cap) | find_subarray(column, cap_opp):\n",
    "\n",
    "    #     move = col\n",
    "    # elif find_subarray(col, cap_opp):\n",
    "    #     print('opp')\n",
    "    # else:\n",
    "    #     print('nah')"
   ]
  },
  {
   "cell_type": "code",
   "execution_count": null,
   "metadata": {},
   "outputs": [],
   "source": [
    "def cap_check(board, )"
   ]
  },
  {
   "cell_type": "code",
   "execution_count": null,
   "metadata": {},
   "outputs": [],
   "source": []
  }
 ],
 "metadata": {
  "kernelspec": {
   "display_name": "Python 3.9.6 64-bit",
   "language": "python",
   "name": "python3"
  },
  "language_info": {
   "codemirror_mode": {
    "name": "ipython",
    "version": 3
   },
   "file_extension": ".py",
   "mimetype": "text/x-python",
   "name": "python",
   "nbconvert_exporter": "python",
   "pygments_lexer": "ipython3",
   "version": "3.9.6"
  },
  "orig_nbformat": 4,
  "vscode": {
   "interpreter": {
    "hash": "31f2aee4e71d21fbe5cf8b01ff0e069b9275f58929596ceb00d14d90e3e16cd6"
   }
  }
 },
 "nbformat": 4,
 "nbformat_minor": 2
}
